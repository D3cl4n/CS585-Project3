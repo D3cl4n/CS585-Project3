{
 "cells": [
  {
   "cell_type": "code",
   "execution_count": 3,
   "id": "00ec346d",
   "metadata": {},
   "outputs": [],
   "source": [
    "from pyspark.sql import SparkSession\n",
    "from pyspark.sql.types import StructType, StructField, StringType, IntegerType, DoubleType\n",
    "from pyspark.sql.functions import col"
   ]
  },
  {
   "cell_type": "code",
   "execution_count": 20,
   "id": "e59e0073",
   "metadata": {},
   "outputs": [],
   "source": [
    "# Create a Spark session\n",
    "spark = SparkSession.builder.appName(\"SQL tasks\").getOrCreate()\n",
    "# load data"
   ]
  },
  {
   "cell_type": "markdown",
   "id": "5274f130",
   "metadata": {},
   "source": [
    "Task 2.1"
   ]
  },
  {
   "cell_type": "code",
   "execution_count": 10,
   "id": "6fe80c9e",
   "metadata": {},
   "outputs": [
    {
     "name": "stdout",
     "output_type": "stream",
     "text": [
      "root\n",
      " |-- TransID: integer (nullable = true)\n",
      " |-- CustID: integer (nullable = true)\n",
      " |-- TransTotal: double (nullable = true)\n",
      " |-- TransNumItems: integer (nullable = true)\n",
      " |-- TransDesc: string (nullable = true)\n",
      "\n",
      "root\n",
      " |-- ID: integer (nullable = true)\n",
      " |-- Name: string (nullable = true)\n",
      " |-- Age: integer (nullable = true)\n",
      " |-- CountryCode: integer (nullable = true)\n",
      " |-- Salary: double (nullable = true)\n",
      "\n",
      "root\n",
      " |-- TransID: integer (nullable = true)\n",
      " |-- CustID: integer (nullable = true)\n",
      " |-- TransTotal: double (nullable = true)\n",
      " |-- TransNumItems: integer (nullable = true)\n",
      " |-- TransDesc: string (nullable = true)\n",
      "\n",
      "+-------+------+------------------+-------------+--------------------+\n",
      "|TransID|CustID|        TransTotal|TransNumItems|           TransDesc|\n",
      "+-------+------+------------------+-------------+--------------------+\n",
      "|      1| 38695|1120.3707736244614|            7|Pet: Food Toy Bed...|\n",
      "|      2| 37410|1258.8819884338257|           10|Clothes: Watch Sc...|\n",
      "|      3| 16007| 969.2270183953658|            8|Beauty: Hair Sham...|\n",
      "|      4|  7887| 898.2750309603056|            7|Other: Electronic...|\n",
      "|      5| 48679|1797.3620581537693|            3|Other: Electronic...|\n",
      "|      6|  6185|1533.7183650412478|           12|Home Appliance: K...|\n",
      "|      8| 13511|1617.8652594540445|           15|Grocery: Rice Flo...|\n",
      "|      9| 31967|1169.5369533170433|            5|Clothes: Jumper S...|\n",
      "|     11|  6091|1311.1797857675424|            9|Clothes: Trousers...|\n",
      "|     13| 19587|1409.5955308374996|            4|Grocery: Rice Flo...|\n",
      "|     14|  3724|1366.2383576076204|            4|Grocery: Egg Brea...|\n",
      "|     15| 24238| 815.7563983144676|           11|Grocery: Rice Flo...|\n",
      "|     16|  8049| 702.4179668270305|           13|Clothes: Trousers...|\n",
      "|     17|   188|1652.8086495330506|            8|Clothes: Trousers...|\n",
      "|     18|  9438|1088.2166025806448|            2|Children: Toys Bo...|\n",
      "|     19| 22014|1640.6112266109046|           15|Clothes: Jumper S...|\n",
      "|     21|  9351|1171.3280330212397|            4|Beauty: Cream Bod...|\n",
      "|     22| 35626| 882.8873557398671|            5|Clothes: Watch Sc...|\n",
      "|     23| 47296|1396.5457838474204|            5|Children: Toys Bo...|\n",
      "|     26| 24437| 1205.103652507211|            5|Grocery: Rice Flo...|\n",
      "+-------+------+------------------+-------------+--------------------+\n",
      "only showing top 20 rows\n",
      "\n"
     ]
    }
   ],
   "source": [
    "CustomerDF=spark.read.option(\"header\",True).option(\"inferSchema\",True).csv(\"C:/Users/ganer/Documents/classes2023/fall/Big_data/project3/Customer.csv\")\n",
    "PurchaseDF=spark.read.option(\"header\",True).option(\"inferSchema\",True).csv(\"C:/Users/ganer/Documents/classes2023/fall/Big_data/project3/Purchase.csv\")\n",
    "PurchaseDF.printSchema()\n",
    "CustomerDF.printSchema()\n",
    "PurchaseDF.createOrReplaceTempView(\"PurchaseView\")\n",
    "T1=spark.sql(\"\"\"SELECT * FROM PurchaseView P WHERE TransTotal>=600\"\"\")\n",
    "T1.printSchema()\n",
    "T1.write.option(\"header\",True).mode(\"overwrite\").csv(\"C:/Users/ganer/Documents/classes2023/fall/Big_data/project3/T1.csv\")\n",
    "T1.show(10)"
   ]
  },
  {
   "cell_type": "markdown",
   "id": "b7778a9d",
   "metadata": {},
   "source": [
    "Task 2.2"
   ]
  },
  {
   "cell_type": "code",
   "execution_count": 13,
   "id": "3837fd6c",
   "metadata": {},
   "outputs": [
    {
     "name": "stdout",
     "output_type": "stream",
     "text": [
      "root\n",
      " |-- TransID: integer (nullable = true)\n",
      " |-- CustID: integer (nullable = true)\n",
      " |-- TransTotal: double (nullable = true)\n",
      " |-- TransNumItems: integer (nullable = true)\n",
      " |-- TransDesc: string (nullable = true)\n",
      "\n",
      "root\n",
      " |-- ID: integer (nullable = true)\n",
      " |-- Name: string (nullable = true)\n",
      " |-- Age: integer (nullable = true)\n",
      " |-- CountryCode: integer (nullable = true)\n",
      " |-- Salary: double (nullable = true)\n",
      "\n",
      "+-------------+-----------+--------+--------+\n",
      "|TransNumItems|MEDIANTOTAL|MINTOTAL|MAXTOTAL|\n",
      "+-------------+-----------+--------+--------+\n",
      "|           12|     1298.5|  600.01| 1999.99|\n",
      "|            1|    1298.26|   600.0| 1999.99|\n",
      "|           13|    1298.73|   600.0|  2000.0|\n",
      "|            6|    1300.19|   600.0| 1999.99|\n",
      "|            3|    1300.14|  600.02|  2000.0|\n",
      "|            5|    1301.46|  600.01| 1999.99|\n",
      "|           15|    1299.34|   600.0|  2000.0|\n",
      "|            9|    1301.55|  600.01|  2000.0|\n",
      "|            4|    1301.51|  600.01|  2000.0|\n",
      "|            8|    1299.35|   600.0|  2000.0|\n",
      "+-------------+-----------+--------+--------+\n",
      "only showing top 10 rows\n",
      "\n"
     ]
    }
   ],
   "source": [
    "CustomerDF=spark.read.option(\"header\",True).option(\"inferSchema\",True).csv(\"C:/Users/ganer/Documents/classes2023/fall/Big_data/project3/Customer.csv\")\n",
    "PurchaseDF=spark.read.option(\"header\",True).option(\"inferSchema\",True).csv(\"C:/Users/ganer/Documents/classes2023/fall/Big_data/project3/Purchase.csv\")\n",
    "PurchaseDF.printSchema()\n",
    "CustomerDF.printSchema()\n",
    "PurchaseDF.createOrReplaceTempView(\"PurchaseView\")\n",
    "T1=spark.sql(\"\"\"SELECT * FROM PurchaseView P WHERE TransTotal>=600\"\"\")\n",
    "T1.createOrReplaceTempView(\"T1View\")\n",
    "T2=spark.sql(\"\"\"SELECT TransNumItems,round(PERCENTILE_APPROX(TransTotal,0.5),2) AS MEDIANTOTAL, round(MIN(TransTotal),2) AS MINTOTAL, round(MAX(TransTotal),2) AS MAXTOTAL FROM T1View GROUP BY TransNumItems\"\"\")\n",
    "T2.show(10)\n",
    "T2.write.option(\"header\",True).mode(\"overwrite\").csv(\"C:/Users/ganer/Documents/classes2023/fall/Big_data/project3/T2.csv\")"
   ]
  },
  {
   "cell_type": "markdown",
   "id": "f5b85f48",
   "metadata": {},
   "source": [
    "Task 2.3"
   ]
  },
  {
   "cell_type": "code",
   "execution_count": 17,
   "id": "2f1792c2",
   "metadata": {},
   "outputs": [
    {
     "name": "stdout",
     "output_type": "stream",
     "text": [
      "root\n",
      " |-- TransID: integer (nullable = true)\n",
      " |-- CustID: integer (nullable = true)\n",
      " |-- TransTotal: double (nullable = true)\n",
      " |-- TransNumItems: integer (nullable = true)\n",
      " |-- TransDesc: string (nullable = true)\n",
      "\n",
      "root\n",
      " |-- ID: integer (nullable = true)\n",
      " |-- Name: string (nullable = true)\n",
      " |-- Age: integer (nullable = true)\n",
      " |-- CountryCode: integer (nullable = true)\n",
      " |-- Salary: double (nullable = true)\n",
      "\n",
      "+-----+---+-----------+------------------+\n",
      "|   ID|AGE|TotalAmount|TotalNumberOfItems|\n",
      "+-----+---+-----------+------------------+\n",
      "|27877| 19|   98547.53|               570|\n",
      "|31183| 19|  113362.21|               722|\n",
      "| 5031| 21|   92596.82|               565|\n",
      "|18052| 24|  113270.29|               631|\n",
      "| 9976| 22|  101693.71|               616|\n",
      "|39653| 23|    87632.2|               488|\n",
      "|23849| 18|   85150.51|               513|\n",
      "|36372| 24|   114000.2|               727|\n",
      "|41048| 18|   84043.42|               529|\n",
      "|27451| 25|   80973.72|               515|\n",
      "+-----+---+-----------+------------------+\n",
      "only showing top 10 rows\n",
      "\n"
     ]
    }
   ],
   "source": [
    "CustomerDF=spark.read.option(\"header\",True).option(\"inferSchema\",True).csv(\"C:/Users/ganer/Documents/classes2023/fall/Big_data/project3/Customer.csv\")\n",
    "PurchaseDF=spark.read.option(\"header\",True).option(\"inferSchema\",True).csv(\"C:/Users/ganer/Documents/classes2023/fall/Big_data/project3/Purchase.csv\")\n",
    "PurchaseDF.printSchema()\n",
    "CustomerDF.printSchema()\n",
    "PurchaseDF.createOrReplaceTempView(\"PurchaseView\")\n",
    "T1=spark.sql(\"\"\"SELECT * FROM PurchaseView P WHERE TransTotal>=600\"\"\")\n",
    "T1.createOrReplaceTempView(\"T1View\")\n",
    "CustomerDF.where(\"Age between 18 and 25\").createOrReplaceTempView(\"YoungCustomerView\")\n",
    "T3=spark.sql(\"\"\"SELECT cus.ID, cus.AGE, round(SUM(TransTotal),2) AS TotalAmount,SUM(TransNumItems) AS TotalNumberOfItems FROM T1View t1 INNER JOIN YoungCustomerView cus ON t1.CustID=cus.ID GROUP BY cus.ID, cus.AGE\"\"\")\n",
    "T3.show(10)\n",
    "T3.write.option(\"header\",True).mode(\"overwrite\").csv(\"C:/Users/ganer/Documents/classes2023/fall/Big_data/project3/T3.csv\")"
   ]
  },
  {
   "cell_type": "markdown",
   "id": "d869310b",
   "metadata": {},
   "source": [
    "Task 2.4"
   ]
  },
  {
   "cell_type": "code",
   "execution_count": 21,
   "id": "de480a3b",
   "metadata": {},
   "outputs": [
    {
     "name": "stdout",
     "output_type": "stream",
     "text": [
      "root\n",
      " |-- TransID: integer (nullable = true)\n",
      " |-- CustID: integer (nullable = true)\n",
      " |-- TransTotal: double (nullable = true)\n",
      " |-- TransNumItems: integer (nullable = true)\n",
      " |-- TransDesc: string (nullable = true)\n",
      "\n",
      "root\n",
      " |-- ID: integer (nullable = true)\n",
      " |-- Name: string (nullable = true)\n",
      " |-- Age: integer (nullable = true)\n",
      " |-- CountryCode: integer (nullable = true)\n",
      " |-- Salary: double (nullable = true)\n",
      "\n",
      "+-----+-----+----+----+------------+------------+-------------------+-------------------+\n",
      "|C1_ID|C2_ID|Age1|Age2|TotalAmount1|TotalAmount2|TotalNumberOfItems1|TotalNumberOfItems2|\n",
      "+-----+-----+----+----+------------+------------+-------------------+-------------------+\n",
      "|27877|34579|  19|  20|    98547.53|    98438.62|                570|                634|\n",
      "|27877|47510|  19|  21|    98547.53|     96325.5|                570|                658|\n",
      "|27877|11156|  19|  23|    98547.53|    97483.07|                570|                636|\n",
      "|27877| 8797|  19|  21|    98547.53|    93278.21|                570|                648|\n",
      "|27877|43645|  19|  25|    98547.53|     86811.1|                570|                579|\n",
      "|27877|35884|  19|  20|    98547.53|    90683.27|                570|                607|\n",
      "|27877| 4047|  19|  23|    98547.53|    93734.23|                570|                643|\n",
      "|27877|22989|  19|  22|    98547.53|    89820.63|                570|                578|\n",
      "|27877|19362|  19|  24|    98547.53|    91666.61|                570|                584|\n",
      "|27877| 3470|  19|  21|    98547.53|    97309.72|                570|                580|\n",
      "+-----+-----+----+----+------------+------------+-------------------+-------------------+\n",
      "only showing top 10 rows\n",
      "\n"
     ]
    }
   ],
   "source": [
    "CustomerDF=spark.read.option(\"header\",True).option(\"inferSchema\",True).csv(\"C:/Users/ganer/Documents/classes2023/fall/Big_data/project3/Customer.csv\")\n",
    "PurchaseDF=spark.read.option(\"header\",True).option(\"inferSchema\",True).csv(\"C:/Users/ganer/Documents/classes2023/fall/Big_data/project3/Purchase.csv\")\n",
    "PurchaseDF.printSchema()\n",
    "CustomerDF.printSchema()\n",
    "PurchaseDF.createOrReplaceTempView(\"PurchaseView\")\n",
    "T1=spark.sql(\"\"\"SELECT * FROM PurchaseView P WHERE TransTotal>=600\"\"\")\n",
    "T1.createOrReplaceTempView(\"T1View\")\n",
    "#CustomerDF.where(\"Age between 18 and 25\").createOrReplaceTempView(\"YoungCustomerView\")\n",
    "CustomerDF.createOrReplaceTempView(\"CustomerView\")\n",
    "YoungCustomer=spark.sql(\"\"\"SELECT * FROM CustomerView C WHERE Age between 18 and 25\"\"\")\n",
    "YoungCustomer.createOrReplaceTempView(\"YoungCustomerView\")\n",
    "T3=spark.sql(\"\"\"SELECT cus.ID, cus.AGE, round(SUM(TransTotal),2) AS TotalAmount,SUM(TransNumItems) AS TotalNumberOfItems FROM T1View t1 INNER JOIN YoungCustomerView cus ON t1.CustID=cus.ID GROUP BY cus.ID, cus.AGE\"\"\")\n",
    "T3.createOrReplaceTempView(\"T3View\")\n",
    "T4=spark.sql(\"\"\"SELECT c1.ID as C1_ID, c2.ID as C2_ID, c1.Age as Age1, c2.age as Age2, round(c1.TotalAmount,2) as TotalAmount1, round(c2.TotalAmount,2) TotalAmount2, c1.TotalNumberOfItems  as TotalNumberOfItems1, c2.TotalNumberOfItems as TotalNumberOfItems2 FROM T3View c1 inner join T3View c2 on c1.Age<c2.Age where c1.TotalAmount>c2.TotalAmount and c1.TotalNumberOfItems<c2.TotalNumberOfItems\"\"\")\n",
    "T4.show(10)\n",
    "T4.write.option(\"header\",True).mode(\"overwrite\").csv(\"C:/Users/ganer/Documents/classes2023/fall/Big_data/project3/T4.csv\")\n"
   ]
  },
  {
   "cell_type": "code",
   "execution_count": 18,
   "id": "91555584",
   "metadata": {},
   "outputs": [],
   "source": [
    "spark.sparkContext.stop()"
   ]
  }
 ],
 "metadata": {
  "kernelspec": {
   "display_name": "Python 3 (ipykernel)",
   "language": "python",
   "name": "python3"
  },
  "language_info": {
   "codemirror_mode": {
    "name": "ipython",
    "version": 3
   },
   "file_extension": ".py",
   "mimetype": "text/x-python",
   "name": "python",
   "nbconvert_exporter": "python",
   "pygments_lexer": "ipython3",
   "version": "3.11.4"
  }
 },
 "nbformat": 4,
 "nbformat_minor": 5
}
