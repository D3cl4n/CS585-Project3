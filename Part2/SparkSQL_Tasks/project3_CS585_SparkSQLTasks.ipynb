{
 "cells": [
  {
   "cell_type": "code",
   "execution_count": 1,
   "id": "00ec346d",
   "metadata": {},
   "outputs": [],
   "source": [
    "from pyspark.sql import SparkSession\n",
    "from pyspark.sql.types import StructType, StructField, StringType, IntegerType, DoubleType\n",
    "from pyspark.sql.functions import col"
   ]
  },
  {
   "cell_type": "code",
   "execution_count": 2,
   "id": "e59e0073",
   "metadata": {},
   "outputs": [],
   "source": [
    "# Create a Spark session\n",
    "spark = SparkSession.builder.appName(\"SQL tasks\").getOrCreate()\n",
    "# load data"
   ]
  },
  {
   "cell_type": "markdown",
   "id": "99752aca",
   "metadata": {},
   "source": [
    "**Task 2.0**"
   ]
  },
  {
   "cell_type": "code",
   "execution_count": 3,
   "id": "fdc455ad",
   "metadata": {},
   "outputs": [
    {
     "name": "stdout",
     "output_type": "stream",
     "text": [
      "root\n",
      " |-- TransID: integer (nullable = true)\n",
      " |-- CustID: integer (nullable = true)\n",
      " |-- TransTotal: double (nullable = true)\n",
      " |-- TransNumItems: integer (nullable = true)\n",
      " |-- TransDesc: string (nullable = true)\n",
      "\n",
      "root\n",
      " |-- ID: integer (nullable = true)\n",
      " |-- Name: string (nullable = true)\n",
      " |-- Age: integer (nullable = true)\n",
      " |-- CountryCode: integer (nullable = true)\n",
      " |-- Salary: double (nullable = true)\n",
      "\n"
     ]
    },
    {
     "data": {
      "text/plain": [
       "DataFrame[ID: int, Name: string, Age: int, CountryCode: int, Salary: double]"
      ]
     },
     "execution_count": 3,
     "metadata": {},
     "output_type": "execute_result"
    }
   ],
   "source": [
    "CustomerDF=spark.read.option(\"header\",True).option(\"inferSchema\",True).csv(\"C:/Users/ganer/Documents/classes2023/fall/Big_data/project3/Customer.csv\")\n",
    "PurchaseDF=spark.read.option(\"header\",True).option(\"inferSchema\",True).csv(\"C:/Users/ganer/Documents/classes2023/fall/Big_data/project3/Purchase.csv\")\n",
    "PurchaseDF.printSchema()\n",
    "CustomerDF.printSchema()\n",
    "PurchaseDF.cache()\n",
    "CustomerDF.cache()"
   ]
  },
  {
   "cell_type": "markdown",
   "id": "5274f130",
   "metadata": {},
   "source": [
    "**Task 2.1**"
   ]
  },
  {
   "cell_type": "code",
   "execution_count": 4,
   "id": "6fe80c9e",
   "metadata": {},
   "outputs": [
    {
     "name": "stdout",
     "output_type": "stream",
     "text": [
      "root\n",
      " |-- TransID: integer (nullable = true)\n",
      " |-- CustID: integer (nullable = true)\n",
      " |-- TransTotal: double (nullable = true)\n",
      " |-- TransNumItems: integer (nullable = true)\n",
      " |-- TransDesc: string (nullable = true)\n",
      "\n",
      "+-------+------+------------------+-------------+--------------------+\n",
      "|TransID|CustID|        TransTotal|TransNumItems|           TransDesc|\n",
      "+-------+------+------------------+-------------+--------------------+\n",
      "|      7|  2681|487.39927274738744|            2|Grocery: Rice Flo...|\n",
      "|     10|  5306| 582.7577969199737|           14|Pet: Food Toy Bed...|\n",
      "|     12| 43639| 471.4799539815962|           12|Beauty: Skincare ...|\n",
      "|     20| 22546| 436.4924591172179|            8|Beauty: Cream Bod...|\n",
      "|     24| 33718|461.38901609618176|            5|Pet: Food Toy Bed...|\n",
      "|     25| 23982| 401.3531312605189|            5|Clothes: Jumper S...|\n",
      "|     27| 33566| 388.0662792207821|           10|Grocery: Egg Brea...|\n",
      "|     29| 30481| 420.8616091990247|            8|Other: Electronic...|\n",
      "|     30| 18724|49.112783606853704|            2|Clothes: Jumper S...|\n",
      "|     36| 29209|192.67293772325976|           13|Clothes: Watch Sc...|\n",
      "+-------+------+------------------+-------------+--------------------+\n",
      "only showing top 10 rows\n",
      "\n"
     ]
    }
   ],
   "source": [
    "PurchaseDF.createOrReplaceTempView(\"PurchaseView\")\n",
    "T1=spark.sql(\"\"\"SELECT * FROM PurchaseView P WHERE TransTotal<=600\"\"\")\n",
    "T1.printSchema()\n",
    "T1.write.option(\"header\",True).mode(\"overwrite\").csv(\"C:/Users/ganer/Documents/classes2023/fall/Big_data/project3/T1.csv\")\n",
    "T1.show(10)"
   ]
  },
  {
   "cell_type": "markdown",
   "id": "b7778a9d",
   "metadata": {},
   "source": [
    "**Task 2.2**"
   ]
  },
  {
   "cell_type": "code",
   "execution_count": 5,
   "id": "3837fd6c",
   "metadata": {},
   "outputs": [
    {
     "name": "stdout",
     "output_type": "stream",
     "text": [
      "+-------------+-----------+--------+--------+\n",
      "|TransNumItems|MEDIANTOTAL|MINTOTAL|MAXTOTAL|\n",
      "+-------------+-----------+--------+--------+\n",
      "|           12|     304.26|    10.0|  599.99|\n",
      "|            1|     304.45|   10.02|   600.0|\n",
      "|           13|     305.78|   10.01|  599.99|\n",
      "|            6|     304.73|    10.0|  599.99|\n",
      "|            3|     306.15|   10.01|  599.99|\n",
      "|            5|     306.76|   10.01|  599.99|\n",
      "|           15|     305.32|   10.01|  599.99|\n",
      "|            9|     305.02|   10.01|  599.99|\n",
      "|            4|     305.48|   10.01|   600.0|\n",
      "|            8|      305.3|    10.0|   600.0|\n",
      "+-------------+-----------+--------+--------+\n",
      "only showing top 10 rows\n",
      "\n"
     ]
    }
   ],
   "source": [
    "PurchaseDF.createOrReplaceTempView(\"PurchaseView\")\n",
    "T1=spark.sql(\"\"\"SELECT * FROM PurchaseView P WHERE TransTotal<=600\"\"\")\n",
    "T1.createOrReplaceTempView(\"T1View\")\n",
    "T2=spark.sql(\"\"\"SELECT TransNumItems,round(PERCENTILE_APPROX(TransTotal,0.5),2) AS MEDIANTOTAL, round(MIN(TransTotal),2) AS MINTOTAL, round(MAX(TransTotal),2) AS MAXTOTAL FROM T1View GROUP BY TransNumItems\"\"\")\n",
    "T2.show(10)\n",
    "T2.write.option(\"header\",True).mode(\"overwrite\").csv(\"C:/Users/ganer/Documents/classes2023/fall/Big_data/project3/T2.csv\")"
   ]
  },
  {
   "cell_type": "markdown",
   "id": "f5b85f48",
   "metadata": {},
   "source": [
    "**Task 2.3**"
   ]
  },
  {
   "cell_type": "code",
   "execution_count": 6,
   "id": "2f1792c2",
   "metadata": {},
   "outputs": [
    {
     "name": "stdout",
     "output_type": "stream",
     "text": [
      "+-----+---+-----------+------------------+\n",
      "|   ID|AGE|TotalAmount|TotalNumberOfItems|\n",
      "+-----+---+-----------+------------------+\n",
      "| 4111| 22|    8244.76|               261|\n",
      "|41048| 18|    6984.26|               218|\n",
      "|31183| 19|    9896.91|               258|\n",
      "|34623| 18|    8941.63|               261|\n",
      "|47510| 21|    8770.89|               201|\n",
      "|27451| 25|   10666.55|               296|\n",
      "|39653| 23|   11394.68|               314|\n",
      "|38570| 18|   11423.18|               266|\n",
      "|22855| 19|    8890.04|               268|\n",
      "|40979| 25|    7811.62|               230|\n",
      "+-----+---+-----------+------------------+\n",
      "only showing top 10 rows\n",
      "\n"
     ]
    }
   ],
   "source": [
    "PurchaseDF.createOrReplaceTempView(\"PurchaseView\")\n",
    "T1=spark.sql(\"\"\"SELECT * FROM PurchaseView P WHERE TransTotal<=600\"\"\")\n",
    "T1.createOrReplaceTempView(\"T1View\")\n",
    "CustomerDF.where(\"Age between 18 and 25\").createOrReplaceTempView(\"YoungCustomerView\")\n",
    "T3=spark.sql(\"\"\"SELECT cus.ID, cus.AGE, round(SUM(TransTotal),2) AS TotalAmount,SUM(TransNumItems) AS TotalNumberOfItems FROM T1View t1 INNER JOIN YoungCustomerView cus ON t1.CustID=cus.ID GROUP BY cus.ID, cus.AGE\"\"\")\n",
    "T3.show(10)\n",
    "T3.write.option(\"header\",True).mode(\"overwrite\").csv(\"C:/Users/ganer/Documents/classes2023/fall/Big_data/project3/T3.csv\")"
   ]
  },
  {
   "cell_type": "markdown",
   "id": "d869310b",
   "metadata": {},
   "source": [
    "**Task 2.4**"
   ]
  },
  {
   "cell_type": "code",
   "execution_count": 7,
   "id": "de480a3b",
   "metadata": {},
   "outputs": [
    {
     "name": "stdout",
     "output_type": "stream",
     "text": [
      "+-----+-----+----+----+------------+------------+-------------------+-------------------+\n",
      "|C1_ID|C2_ID|Age1|Age2|TotalAmount1|TotalAmount2|TotalNumberOfItems1|TotalNumberOfItems2|\n",
      "+-----+-----+----+----+------------+------------+-------------------+-------------------+\n",
      "|31183| 4111|  19|  22|     9896.91|     8244.76|                258|                261|\n",
      "|47510| 4111|  21|  22|     8770.89|     8244.76|                201|                261|\n",
      "| 5031| 4111|  21|  22|      8280.8|     8244.76|                189|                261|\n",
      "| 1333| 4111|  18|  22|     8837.36|     8244.76|                210|                261|\n",
      "|27656| 4111|  19|  22|     8706.59|     8244.76|                198|                261|\n",
      "| 2646| 4111|  19|  22|     9261.67|     8244.76|                222|                261|\n",
      "|25045| 4111|  21|  22|     8529.23|     8244.76|                237|                261|\n",
      "|18473| 4111|  21|  22|     8496.62|     8244.76|                238|                261|\n",
      "|34899| 4111|  20|  22|     9186.52|     8244.76|                202|                261|\n",
      "| 6106| 4111|  18|  22|     9898.77|     8244.76|                224|                261|\n",
      "+-----+-----+----+----+------------+------------+-------------------+-------------------+\n",
      "only showing top 10 rows\n",
      "\n"
     ]
    }
   ],
   "source": [
    "PurchaseDF.createOrReplaceTempView(\"PurchaseView\")\n",
    "T1=spark.sql(\"\"\"SELECT * FROM PurchaseView P WHERE TransTotal<=600\"\"\")\n",
    "T1.createOrReplaceTempView(\"T1View\")\n",
    "#CustomerDF.where(\"Age between 18 and 25\").createOrReplaceTempView(\"YoungCustomerView\")\n",
    "CustomerDF.createOrReplaceTempView(\"CustomerView\")\n",
    "YoungCustomer=spark.sql(\"\"\"SELECT * FROM CustomerView C WHERE Age between 18 and 25\"\"\")\n",
    "YoungCustomer.createOrReplaceTempView(\"YoungCustomerView\")\n",
    "T3=spark.sql(\"\"\"SELECT cus.ID, cus.AGE, round(SUM(TransTotal),2) AS TotalAmount,SUM(TransNumItems) AS TotalNumberOfItems FROM T1View t1 INNER JOIN YoungCustomerView cus ON t1.CustID=cus.ID GROUP BY cus.ID, cus.AGE\"\"\")\n",
    "T3.createOrReplaceTempView(\"T3View\")\n",
    "T4=spark.sql(\"\"\"SELECT c1.ID as C1_ID, c2.ID as C2_ID, c1.Age as Age1, c2.age as Age2, round(c1.TotalAmount,2) as TotalAmount1, round(c2.TotalAmount,2) TotalAmount2, c1.TotalNumberOfItems  as TotalNumberOfItems1, c2.TotalNumberOfItems as TotalNumberOfItems2 FROM T3View c1 inner join T3View c2 on c1.Age<c2.Age where c1.TotalAmount>c2.TotalAmount and c1.TotalNumberOfItems<c2.TotalNumberOfItems\"\"\")\n",
    "T4.show(10)\n",
    "T4.write.option(\"header\",True).mode(\"overwrite\").csv(\"C:/Users/ganer/Documents/classes2023/fall/Big_data/project3/T4.csv\")\n"
   ]
  },
  {
   "cell_type": "code",
   "execution_count": 8,
   "id": "91555584",
   "metadata": {},
   "outputs": [],
   "source": [
    "spark.sparkContext.stop()"
   ]
  }
 ],
 "metadata": {
  "kernelspec": {
   "display_name": "Python 3 (ipykernel)",
   "language": "python",
   "name": "python3"
  },
  "language_info": {
   "codemirror_mode": {
    "name": "ipython",
    "version": 3
   },
   "file_extension": ".py",
   "mimetype": "text/x-python",
   "name": "python",
   "nbconvert_exporter": "python",
   "pygments_lexer": "ipython3",
   "version": "3.11.4"
  }
 },
 "nbformat": 4,
 "nbformat_minor": 5
}
